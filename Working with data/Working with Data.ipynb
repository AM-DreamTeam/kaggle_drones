{
 "cells": [
  {
   "cell_type": "markdown",
   "metadata": {},
   "source": [
    "# Работа с данными"
   ]
  },
  {
   "cell_type": "markdown",
   "metadata": {},
   "source": [
    "### Импорт данных"
   ]
  },
  {
   "cell_type": "code",
   "execution_count": null,
   "metadata": {},
   "outputs": [],
   "source": [
    "with open('busy_day.in', 'r') as f:\n",
    "    input_data = f.read().split('\\n')"
   ]
  },
  {
   "cell_type": "code",
   "execution_count": null,
   "metadata": {
    "scrolled": false
   },
   "outputs": [],
   "source": [
    "input_data"
   ]
  },
  {
   "cell_type": "markdown",
   "metadata": {},
   "source": [
    "### Базовые данные"
   ]
  },
  {
   "cell_type": "code",
   "execution_count": null,
   "metadata": {},
   "outputs": [],
   "source": [
    "names = ['rows', 'columns', 'drones', 'turns', 'max_payload']\n",
    "basic_data = {names[_]: int(input_data[0].split()[_]) for _ in range(len(names))}\n",
    "print(f'Базовая информация о задаче:\\n{basic_data}')"
   ]
  },
  {
   "cell_type": "markdown",
   "metadata": {},
   "source": [
    "### Данные о товарах"
   ]
  },
  {
   "cell_type": "code",
   "execution_count": null,
   "metadata": {},
   "outputs": [],
   "source": [
    "types_products_count = int(input_data[1])\n",
    "types_products_data = input_data[2].split()\n",
    "weigh_of_types = {_: int(types_products_data[_]) for _ in range(types_products_count)}\n",
    "print(f'Количество типов товаров:\\n{input_data[1]}\\n')\n",
    "print(f'Вес товаров каждого типа:\\n{weigh_of_types}')"
   ]
  },
  {
   "cell_type": "markdown",
   "metadata": {},
   "source": [
    "### Данные о складах"
   ]
  },
  {
   "cell_type": "code",
   "execution_count": null,
   "metadata": {},
   "outputs": [],
   "source": [
    "warehouses_count = int(input_data[3])\n",
    "warehouses_input_data = input_data[4:(warehouses_count + 2) * 2]\n",
    "warehouse_coords = warehouses_input_data[::2]                         # координаты складов\n",
    "warehouse_products = warehouses_input_data[1::2]                      # товары на складах"
   ]
  },
  {
   "cell_type": "code",
   "execution_count": null,
   "metadata": {},
   "outputs": [],
   "source": [
    "def get_warehouses_products(type_products_count: int, current_warehouse_data: list, index: int) -> dict:\n",
    "    ''' Словарь с товарами на складе\n",
    "        \n",
    "        Аргументы:\n",
    "            types_products_count (int): количество типов товаров\n",
    "            current_warehiuses_data (list): текущий (неотформатированный) список с количеством товаров кажодого типа\n",
    "            index (int): идентификатор склада, с которым мы сейчас работаем\n",
    "        \n",
    "        Возвращает:\n",
    "            dict: словарь с отформатированными значениями продуктов, которые содержатся на складе\n",
    "    '''\n",
    "    \n",
    "    \n",
    "    return {_: int(current_warehouse_data.split()[_]) for _ in range(type_products_count)}"
   ]
  },
  {
   "cell_type": "code",
   "execution_count": null,
   "metadata": {},
   "outputs": [],
   "source": [
    "warehouses_data = {i: {'coordinates': tuple(map(int, warehouse_coords[i].split())),\n",
    "        'products': get_warehouses_products(types_products_count, warehouse_products[i], i)}\n",
    "    for i in range(warehouses_count)}"
   ]
  },
  {
   "cell_type": "code",
   "execution_count": null,
   "metadata": {},
   "outputs": [],
   "source": [
    "print(f'Количество складов:\\n{warehouses_count}\\n')\n",
    "print(f'Координаты и товары, которые находятся на каждом складе:\\n{warehouses_data}')"
   ]
  },
  {
   "cell_type": "code",
   "execution_count": null,
   "metadata": {},
   "outputs": [],
   "source": [
    "with open('warehouse_data.json', 'w', encoding = 'utf-8') as f:\n",
    "    json.dump(warehouses_data, f, indent = 4)"
   ]
  },
  {
   "cell_type": "markdown",
   "metadata": {},
   "source": [
    "### Данные о заказах"
   ]
  },
  {
   "cell_type": "code",
   "execution_count": null,
   "metadata": {},
   "outputs": [],
   "source": [
    "orders_count = int(input_data[(warehouses_count + 2) * 2])\n",
    "orders_input_data = input_data[(warehouses_count + 2) * 2 + 1:]\n",
    "\n",
    "orders_coords = orders_input_data[::3]                          # координаты заказчиков\n",
    "orders_product_count = orders_input_data[1::3]                  # количество товаров у каждого\n",
    "                                                                # заказчика\n",
    "orders_product_types = orders_input_data[2::3]                  # типы товаров каждого заказчика"
   ]
  },
  {
   "cell_type": "code",
   "execution_count": null,
   "metadata": {},
   "outputs": [],
   "source": [
    "orders_data = {i: \n",
    "               {'coords': tuple(map(int, orders_coords[i].split())),\n",
    "                'count_products': int(orders_product_count[i]),\n",
    "                'product_types': list(map(int, orders_product_types[i].split()))} \n",
    "               for i in range(orders_count)}"
   ]
  },
  {
   "cell_type": "code",
   "execution_count": null,
   "metadata": {},
   "outputs": [],
   "source": [
    "print(f'Количество заказов:\\n{orders_count}\\n')\n",
    "print(f'Данные по каждому заказу:\\n{orders_data}')"
   ]
  },
  {
   "cell_type": "code",
   "execution_count": null,
   "metadata": {},
   "outputs": [],
   "source": [
    "with open('orders_data.json', 'w', encoding = 'utf-8') as f:\n",
    "    json.dump(orders_data, f, indent = 4)"
   ]
  },
  {
   "cell_type": "markdown",
   "metadata": {},
   "source": [
    "## Функция, которая декодирует файл"
   ]
  },
  {
   "cell_type": "code",
   "execution_count": null,
   "metadata": {},
   "outputs": [],
   "source": [
    "import json"
   ]
  },
  {
   "cell_type": "code",
   "execution_count": null,
   "metadata": {},
   "outputs": [],
   "source": [
    "def decoding_input_data(filename: str) -> dict:\n",
    "    ''' Декодирование входных данных\n",
    "        \n",
    "        Аргументы:\n",
    "            filename (str): имя файла, который необходимо декодировать\n",
    "        \n",
    "        Возвращает:\n",
    "            dict: словарь с декодированными данными\n",
    "    '''\n",
    "    \n",
    "    # Открывам файл\n",
    "    with open(filename, 'r') as f:\n",
    "        input_data = f.read().split('\\n')\n",
    "    \n",
    "    # Базовые данные\n",
    "    names = ['rows', 'columns', 'drones', 'turns', 'max_payload']\n",
    "    basic_data = {names[_]: int(input_data[0].split()[_]) for _ in range(len(names))}\n",
    "    \n",
    "    # Данные о товарах\n",
    "    types_products_count = int(input_data[1])\n",
    "    types_products_data = input_data[2].split()\n",
    "    weigh_of_types = {_: int(types_products_data[_]) for _ in range(types_products_count)}\n",
    "    \n",
    "    # Данные о складах\n",
    "    warehouses_count = int(input_data[3])\n",
    "    warehouses_input_data = input_data[4:(warehouses_count + 2) * 2]\n",
    "    warehouse_coords = warehouses_input_data[::2]\n",
    "    warehouse_products = warehouses_input_data[1::2]\n",
    "    \n",
    "    warehouses_data = {i:\n",
    "                        {'coordinates': tuple(map(int, warehouse_coords[i].split())),\n",
    "                         'products': get_warehouses_products(types_products_count, warehouse_products[i], i)}\n",
    "    for i in range(warehouses_count)}\n",
    "    \n",
    "    # Данные о заказах\n",
    "    orders_count = int(input_data[(warehouses_count + 2) * 2])\n",
    "    orders_input_data = input_data[(warehouses_count + 2) * 2 + 1:]\n",
    "\n",
    "    orders_coords = orders_input_data[::3]\n",
    "    orders_product_count = orders_input_data[1::3]\n",
    "    orders_product_types = orders_input_data[2::3]\n",
    "    \n",
    "    orders_data = {i: \n",
    "                   {'coords': tuple(map(int, orders_coords[i].split())),\n",
    "                    'count_products': int(orders_product_count[i]),\n",
    "                    'product_types': list(map(int, orders_product_types[i].split()))} \n",
    "    for i in range(orders_count)}\n",
    "    \n",
    "    # Собираем все данные в один большой словарь\n",
    "    field_names = ['basic_data',\n",
    "                   'types_products_count',\n",
    "                   'products_data',\n",
    "                   'warehouses_count',\n",
    "                   'warehouses_data',\n",
    "                   'orders_count',\n",
    "                   'orders_data']\n",
    "    \n",
    "    list_all_data = [basic_data,\n",
    "                     types_products_count,\n",
    "                     weigh_of_types,\n",
    "                     warehouses_count,\n",
    "                     warehouses_data,\n",
    "                     orders_count,\n",
    "                     orders_data]\n",
    "    \n",
    "    all_data = dict(zip(field_names, list_all_data))\n",
    "    \n",
    "    return all_data "
   ]
  },
  {
   "cell_type": "code",
   "execution_count": null,
   "metadata": {},
   "outputs": [],
   "source": [
    "decoded_data = decoding_input_data('busy_day.in')\n",
    "\n",
    "with open('decoded_data.json', 'w') as f:\n",
    "    json.dump(decoded_data, f, indent = 4)"
   ]
  },
  {
   "cell_type": "markdown",
   "metadata": {},
   "source": [
    "## Создание данных"
   ]
  },
  {
   "cell_type": "code",
   "execution_count": 272,
   "metadata": {},
   "outputs": [],
   "source": [
    "from random import randint, sample"
   ]
  },
  {
   "cell_type": "markdown",
   "metadata": {},
   "source": [
    "### Базовые данные"
   ]
  },
  {
   "cell_type": "code",
   "execution_count": 173,
   "metadata": {},
   "outputs": [],
   "source": [
    "rows = 100                  # количество строк\n",
    "columns = 100               # количество столбцов\n",
    "drones = 3                  # количество дронов\n",
    "turns = 500                 # количество ходов\n",
    "max_payload = 500           # максимальная загруженность дронов"
   ]
  },
  {
   "cell_type": "markdown",
   "metadata": {},
   "source": [
    "### Данные о товарах"
   ]
  },
  {
   "cell_type": "code",
   "execution_count": 217,
   "metadata": {},
   "outputs": [],
   "source": [
    "types_products_count = 4    # количество типов продуктов\n",
    "\n",
    "weight_interval = (2, 450)  # интервал значений весов товаров\n",
    "product_data = [randint(*weight_interval) for _ in range(types_products_count)]  # список весов товаров"
   ]
  },
  {
   "cell_type": "markdown",
   "metadata": {},
   "source": [
    "### Данные о складах"
   ]
  },
  {
   "cell_type": "code",
   "execution_count": 221,
   "metadata": {},
   "outputs": [],
   "source": [
    "warehouses_count = 2        # количество складов\n",
    "\n",
    "warehouses_coords = [(randint(0, rows), randint(0, columns)) for _ in range(warehouses_count)] # местораположение складов\n",
    "\n",
    "interval_products_on_warehouse_count = (0, 10)  # интервал значений количества товаров\n",
    "warehouses_products_count = [[randint(*interval_products_on_warehouse_count)\n",
    "                             for _ in range(types_products_count)]\n",
    "                             for _ in range(warehouses_count)]"
   ]
  },
  {
   "cell_type": "markdown",
   "metadata": {},
   "source": [
    "### Данные о заказах"
   ]
  },
  {
   "cell_type": "code",
   "execution_count": 212,
   "metadata": {},
   "outputs": [],
   "source": [
    "orders_count = 3             # количество заказов\n",
    "                            \n",
    "orders_coords = [(randint(0, rows), randint(0, columns)) for _ in range(orders_count)]  # месторасположение заказов\n",
    "interval_items_in_order = (1, min(3, types_products_count))\n",
    "product_types_in_order = [sample(range(types_products_count), randint(*interval_items_in_order)) \n",
    "                          for _ in range(orders_count)]\n",
    "count_products_in_order = list(map(len, product_types_in_order))"
   ]
  },
  {
   "cell_type": "markdown",
   "metadata": {},
   "source": [
    "## Функция, которая создаёт псевдо-данные"
   ]
  },
  {
   "cell_type": "code",
   "execution_count": 238,
   "metadata": {},
   "outputs": [],
   "source": [
    "def generate_data(input_params: dict) -> dict:\n",
    "    ''' Создание входных данных\n",
    "        \n",
    "        Аргументы:\n",
    "            input_params (dict): словарь со всеми необходимыми атрибутами\n",
    "                Поля input_params:\n",
    "                    rows - количество строк,\n",
    "                    columns - количество столбцов,\n",
    "                    drones - количество дронов,\n",
    "                    turns - количество ходов,\n",
    "                    max_payload - максимальная загруженность дронов,\n",
    "                    types_products_count - количество типов продуктов,\n",
    "                    weight_interval - интервал значений весов товаров,\n",
    "                    warehouses_count - количество складов,\n",
    "                    interval_products_on_warehouse_count - интервал значений количества товаров,\n",
    "                    orders_count - количество заказов,\n",
    "                    max_items_in_order - максимальное количество товаров в заказах\n",
    "        \n",
    "        Возвращает:\n",
    "            dict: словарь с псевдо-данными\n",
    "    '''\n",
    "    # Базовые данные\n",
    "    rows = input_params['rows']                    # количество строк\n",
    "    columns = input_params['columns']              # количество столбцов\n",
    "    drones = input_params['drones']                # количество дронов\n",
    "    turns = input_params['turns']                  # количество ходов\n",
    "    max_payload = input_params['max_payload']      # максимальная загруженность дронов\n",
    "    \n",
    "    names = ['rows', 'columns', 'drones', 'turns', 'max_payload']\n",
    "    basic_data = dict(zip(names, [rows, columns, drones, turns, max_payload]))\n",
    "    \n",
    "    # Данные о товарах \n",
    "    types_products_count = input_params['types_products_count']  # количество типов продуктов\n",
    "    weight_interval = input_params['weight_interval']            # интервал значений весов товаров\n",
    "    product_data = [randint(*weight_interval) for _ in range(types_products_count)]  # список весов товаров\n",
    "    \n",
    "    weigh_of_types = {_: product_data[_] for _ in range(types_products_count)}\n",
    "    \n",
    "    # Данные о складах\n",
    "    warehouses_count = input_params['warehouses_count']                                             # количество складов\n",
    "    warehouses_coords = [(randint(0, rows), randint(0, columns)) for _ in range(warehouses_count)]  # раположение складов\n",
    "    interval_products_on_warehouse_count = input_params['interval_products_on_warehouse_count']     # интервал значений количества товаров\n",
    "    warehouses_products_count = [[randint(*interval_products_on_warehouse_count)  # количество товаров на складе\n",
    "                             for _ in range(types_products_count)]\n",
    "                             for _ in range(warehouses_count)]\n",
    "    \n",
    "    warehouses_data = {_: {\n",
    "                          'coordinates': warehouses_coords[_],\n",
    "                          'products': warehouses_products_count[_]} \n",
    "    for _ in range(warehouses_count)}\n",
    "    \n",
    "    # Данные о заказах\n",
    "    orders_count = input_params['orders_count']               # количество заказов\n",
    "    max_items_in_order = input_params['maitems_in_order']     # максимальное количество товаров в заказах\n",
    "    interval_items_in_order = (1, min(max_items_in_order, types_products_count)) # интервал количества товаров в заказах\n",
    "    orders_coords = [(randint(0, rows), randint(0, columns)) for _ in range(orders_count)]  # раположение заказов\n",
    "    product_types_in_order = [sample(range(types_products_count), randint(*interval_items_in_order)) \n",
    "                          for _ in range(orders_count)]         # типы товаров, которые находятся в заказах\n",
    "    count_products_in_order = list(map(len, product_types_in_order))  # количество товаров в заказах\n",
    "    \n",
    "    orders_data = {_: {\n",
    "                      'coordinates': orders_coords[_],\n",
    "                      'count_products': count_products_in_order[_],\n",
    "                      'product_types': product_types_in_order[_]} \n",
    "    for _ in range(orders_count)}\n",
    "    \n",
    "    # Собираем все данные в один большой словарь\n",
    "    field_names = ['basic_data',\n",
    "                   'types_products_count',\n",
    "                   'products_data',\n",
    "                   'warehouses_count',\n",
    "                   'warehouses_data',\n",
    "                   'orders_count',\n",
    "                   'orders_data']\n",
    "    \n",
    "    list_all_data = [basic_data,\n",
    "                     types_products_count,\n",
    "                     weigh_of_types,\n",
    "                     warehouses_count,\n",
    "                     warehouses_data,\n",
    "                     orders_count,\n",
    "                     orders_data]\n",
    "    \n",
    "    all_data = dict(zip(field_names, list_all_data))\n",
    "    \n",
    "    return all_data"
   ]
  },
  {
   "cell_type": "code",
   "execution_count": 239,
   "metadata": {},
   "outputs": [],
   "source": [
    "input_params = {\n",
    "                    'rows': 100,\n",
    "                    'columns': 100,\n",
    "                    'drones': 3,\n",
    "                    'turns': 500,\n",
    "                    'max_payload': 500,\n",
    "                    'types_products_count': 4,\n",
    "                    'weight_interval': (2, 450),\n",
    "                    'warehouses_count': 2,\n",
    "                    'interval_products_on_warehouse_count': (0, 10),\n",
    "                    'orders_count': 3,\n",
    "                    'max_items_in_order': 3\n",
    "                }"
   ]
  },
  {
   "cell_type": "markdown",
   "metadata": {},
   "source": [
    "## Матрица расстояний"
   ]
  },
  {
   "cell_type": "code",
   "execution_count": 273,
   "metadata": {},
   "outputs": [],
   "source": [
    "from scipy.spatial import distance_matrix"
   ]
  },
  {
   "cell_type": "code",
   "execution_count": 274,
   "metadata": {},
   "outputs": [
    {
     "data": {
      "text/plain": [
       "[(28, 49), (32, 65), (14, 13), (54, 6), (25, 5)]"
      ]
     },
     "execution_count": 274,
     "metadata": {},
     "output_type": "execute_result"
    }
   ],
   "source": [
    "gen_data = generate_data(input_params)\n",
    "warehouses_coords = [_['coordinates']for _ in list(gen_data['warehouses_data'].values())]\n",
    "orders_coords = [_['coordinates']for _ in list(gen_data['orders_data'].values())]\n",
    "all_coords = warehouses_coords + orders_coords\n",
    "all_coords"
   ]
  },
  {
   "cell_type": "code",
   "execution_count": 275,
   "metadata": {},
   "outputs": [
    {
     "name": "stdout",
     "output_type": "stream",
     "text": [
      "[[0.0, 16.492422502470642, 38.62641583165593, 50.24937810560445, 44.10215414239989], [16.492422502470642, 0.0, 55.02726596879042, 62.96824596572466, 60.40695324215582], [38.62641583165593, 55.02726596879042, 0.0, 40.607881008493905, 13.601470508735444], [50.24937810560445, 62.96824596572466, 40.607881008493905, 0.0, 29.017236257093817], [44.10215414239989, 60.40695324215582, 13.601470508735444, 29.017236257093817, 0.0]]\n"
     ]
    }
   ],
   "source": [
    "dist_matrix = list(map(list, distance_matrix(all_coords, all_coords)))\n",
    "print(dist_matrix)"
   ]
  }
 ],
 "metadata": {
  "kernelspec": {
   "display_name": "Python 3",
   "language": "python",
   "name": "python3"
  },
  "language_info": {
   "codemirror_mode": {
    "name": "ipython",
    "version": 3
   },
   "file_extension": ".py",
   "mimetype": "text/x-python",
   "name": "python",
   "nbconvert_exporter": "python",
   "pygments_lexer": "ipython3",
   "version": "3.8.2"
  }
 },
 "nbformat": 4,
 "nbformat_minor": 4
}
