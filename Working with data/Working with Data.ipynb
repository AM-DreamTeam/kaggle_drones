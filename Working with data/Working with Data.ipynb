{
 "cells": [
  {
   "cell_type": "markdown",
   "metadata": {},
   "source": [
    "# Работа с данными"
   ]
  },
  {
   "cell_type": "markdown",
   "metadata": {},
   "source": [
    "### Импорт данных"
   ]
  },
  {
   "cell_type": "code",
   "execution_count": null,
   "metadata": {},
   "outputs": [],
   "source": [
    "with open('busy_day.in', 'r') as f:\n",
    "    input_data = f.read().split('\\n')"
   ]
  },
  {
   "cell_type": "code",
   "execution_count": null,
   "metadata": {
    "scrolled": false
   },
   "outputs": [],
   "source": [
    "input_data"
   ]
  },
  {
   "cell_type": "markdown",
   "metadata": {},
   "source": [
    "### Базовые данные"
   ]
  },
  {
   "cell_type": "code",
   "execution_count": null,
   "metadata": {},
   "outputs": [],
   "source": [
    "names = ['rows', 'columns', 'drones', 'turns', 'max_payload']\n",
    "basic_data = {names[_]: int(input_data[0].split()[_]) for _ in range(len(names))}\n",
    "print(f'Базовая информация о задаче:\\n{basic_data}')"
   ]
  },
  {
   "cell_type": "markdown",
   "metadata": {},
   "source": [
    "### Данные о товарах"
   ]
  },
  {
   "cell_type": "code",
   "execution_count": null,
   "metadata": {},
   "outputs": [],
   "source": [
    "types_products_count = int(input_data[1])\n",
    "types_products_data = input_data[2].split()\n",
    "weigh_of_types = {_: int(types_products_data[_]) for _ in range(types_products_count)}\n",
    "print(f'Количество типов товаров:\\n{input_data[1]}\\n')\n",
    "print(f'Вес товаров каждого типа:\\n{weigh_of_types}')"
   ]
  },
  {
   "cell_type": "markdown",
   "metadata": {},
   "source": [
    "### Данные о складах"
   ]
  },
  {
   "cell_type": "code",
   "execution_count": null,
   "metadata": {},
   "outputs": [],
   "source": [
    "warehouses_count = int(input_data[3])\n",
    "warehouses_input_data = input_data[4:(warehouses_count + 2) * 2]\n",
    "warehouse_coords = warehouses_input_data[::2]                         # координаты складов\n",
    "warehouse_products = warehouses_input_data[1::2]                      # товары на складах"
   ]
  },
  {
   "cell_type": "code",
   "execution_count": null,
   "metadata": {},
   "outputs": [],
   "source": [
    "def get_warehouses_products(type_products_count: int, current_warehouse_data: list, index: int) -> dict:\n",
    "    ''' Словарь с товарами на складе\n",
    "        \n",
    "        Аргументы:\n",
    "            types_products_count (int): количество типов товаров\n",
    "            current_warehiuses_data (list): текущий (неотформатированный) список с количеством товаров кажодого типа\n",
    "            index (int): идентификатор склада, с которым мы сейчас работаем\n",
    "        \n",
    "        Возвращает:\n",
    "            dict: словарь с отформатированными значениями продуктов, которые содержатся на складе\n",
    "    '''\n",
    "    \n",
    "    \n",
    "    return {_: int(current_warehouse_data.split()[_]) for _ in range(type_products_count)}"
   ]
  },
  {
   "cell_type": "code",
   "execution_count": null,
   "metadata": {},
   "outputs": [],
   "source": [
    "warehouses_data = {i: {'coordinates': tuple(map(int, warehouse_coords[i].split())),\n",
    "        'products': get_warehouses_products(types_products_count, warehouse_products[i], i)}\n",
    "    for i in range(warehouses_count)}"
   ]
  },
  {
   "cell_type": "code",
   "execution_count": null,
   "metadata": {},
   "outputs": [],
   "source": [
    "print(f'Количество складов:\\n{warehouses_count}\\n')\n",
    "print(f'Координаты и товары, которые находятся на каждом складе:\\n{warehouses_data}')"
   ]
  },
  {
   "cell_type": "code",
   "execution_count": null,
   "metadata": {},
   "outputs": [],
   "source": [
    "with open('warehouse_data.json', 'w', encoding = 'utf-8') as f:\n",
    "    json.dump(warehouses_data, f, indent = 4)"
   ]
  },
  {
   "cell_type": "markdown",
   "metadata": {},
   "source": [
    "## Данные о заказах"
   ]
  },
  {
   "cell_type": "code",
   "execution_count": null,
   "metadata": {},
   "outputs": [],
   "source": [
    "orders_count = int(input_data[(warehouses_count + 2) * 2])\n",
    "orders_input_data = input_data[(warehouses_count + 2) * 2 + 1:]\n",
    "\n",
    "orders_coords = orders_input_data[::3]                          # координаты заказчиков\n",
    "orders_product_count = orders_input_data[1::3]                  # количество товаров у каждого\n",
    "                                                                # заказчика\n",
    "orders_product_types = orders_input_data[2::3]                  # типы товаров каждого заказчика"
   ]
  },
  {
   "cell_type": "code",
   "execution_count": null,
   "metadata": {},
   "outputs": [],
   "source": [
    "orders_data = {i: \n",
    "               {'coords': tuple(map(int, orders_coords[i].split())),\n",
    "                'count_products': int(orders_product_count[i]),\n",
    "                'product_types': list(map(int, orders_product_types[i].split()))} \n",
    "               for i in range(orders_count)}"
   ]
  },
  {
   "cell_type": "code",
   "execution_count": null,
   "metadata": {},
   "outputs": [],
   "source": [
    "print(f'Количество заказов:\\n{orders_count}\\n')\n",
    "print(f'Данные по каждому заказу:\\n{orders_data}')"
   ]
  },
  {
   "cell_type": "code",
   "execution_count": null,
   "metadata": {},
   "outputs": [],
   "source": [
    "with open('orders_data.json', 'w', encoding = 'utf-8') as f:\n",
    "    json.dump(orders_data, f, indent = 4)"
   ]
  },
  {
   "cell_type": "markdown",
   "metadata": {},
   "source": [
    "## Функция, которая декодирует файл"
   ]
  },
  {
   "cell_type": "code",
   "execution_count": null,
   "metadata": {},
   "outputs": [],
   "source": [
    "import json"
   ]
  },
  {
   "cell_type": "code",
   "execution_count": null,
   "metadata": {},
   "outputs": [],
   "source": [
    "def decoding_input_data(filename: str) -> dict:\n",
    "    ''' Декодирование входных данных\n",
    "        \n",
    "        Аргументы:\n",
    "            filename (str): имя файла, который необходимо декодировать\n",
    "        \n",
    "        Возвращает:\n",
    "            dict: словарь с декодированными данными\n",
    "    '''\n",
    "    \n",
    "    # Открывам файл\n",
    "    with open(filename, 'r') as f:\n",
    "        input_data = f.read().split('\\n')\n",
    "    \n",
    "    # Базовые данные\n",
    "    names = ['rows', 'columns', 'drones', 'turns', 'max_payload']\n",
    "    basic_data = {names[_]: int(input_data[0].split()[_]) for _ in range(len(names))}\n",
    "    \n",
    "    # Данные о товарах\n",
    "    types_products_count = int(input_data[1])\n",
    "    types_products_data = input_data[2].split()\n",
    "    weigh_of_types = {_: int(types_products_data[_]) for _ in range(types_products_count)}\n",
    "    \n",
    "    # Данные о складах\n",
    "    warehouses_count = int(input_data[3])\n",
    "    warehouses_input_data = input_data[4:(warehouses_count + 2) * 2]\n",
    "    warehouse_coords = warehouses_input_data[::2]\n",
    "    warehouse_products = warehouses_input_data[1::2]\n",
    "    \n",
    "    warehouses_data = {i:\n",
    "                    {'coordinates': tuple(map(int, warehouse_coords[i].split())),\n",
    "                     'products': get_warehouses_products(types_products_count, warehouse_products[i], i)}\n",
    "    for i in range(warehouses_count)}\n",
    "    \n",
    "    # Данные о заказах\n",
    "    orders_count = int(input_data[(warehouses_count + 2) * 2])\n",
    "    orders_input_data = input_data[(warehouses_count + 2) * 2 + 1:]\n",
    "\n",
    "    orders_coords = orders_input_data[::3]\n",
    "    orders_product_count = orders_input_data[1::3]\n",
    "    orders_product_types = orders_input_data[2::3]\n",
    "    \n",
    "    orders_data = {i: \n",
    "               {'coords': tuple(map(int, orders_coords[i].split())),\n",
    "                'count_products': int(orders_product_count[i]),\n",
    "                'product_types': list(map(int, orders_product_types[i].split()))} \n",
    "    for i in range(orders_count)}\n",
    "    \n",
    "    # Собираем все данные в один большой словарь\n",
    "    field_names = ['basic_data',\n",
    "                   'types_products_count',\n",
    "                   'products_data',\n",
    "                   'warehouses_count',\n",
    "                   'warehouses_data',\n",
    "                   'orders_count',\n",
    "                   'orders_data']\n",
    "    \n",
    "    list_all_data = [basic_data,\n",
    "                     types_products_count,\n",
    "                     weigh_of_types,\n",
    "                     warehouses_count,\n",
    "                     warehouses_data,\n",
    "                     orders_count,\n",
    "                     orders_data]\n",
    "    \n",
    "    all_data = dict(zip(field_names, list_all_data))\n",
    "    \n",
    "    return all_data "
   ]
  },
  {
   "cell_type": "code",
   "execution_count": null,
   "metadata": {},
   "outputs": [],
   "source": [
    "decoded_data = decoding_input_data('busy_day.in')\n",
    "\n",
    "with open('decoded_data.json', 'w') as f:\n",
    "    json.dump(decoded_data, f, indent = 4)"
   ]
  },
  {
   "cell_type": "markdown",
   "metadata": {},
   "source": [
    "## Создание данных"
   ]
  },
  {
   "cell_type": "code",
   "execution_count": null,
   "metadata": {},
   "outputs": [],
   "source": [
    "from scipy.spatial import distance_matrix\n",
    "from random import randint, sample"
   ]
  },
  {
   "cell_type": "code",
   "execution_count": null,
   "metadata": {},
   "outputs": [],
   "source": [
    "# Базовая информация\n",
    "rows = 100                  # количество строк\n",
    "columns = 100               # количество столбцов\n",
    "drones = 3                  # количество дронов\n",
    "turns = 500                 # количество ходов\n",
    "max_payload = 500           # максимальная загруженность дронов\n",
    "basic_data = [rows, columns, drones, turns, max_payload]"
   ]
  },
  {
   "cell_type": "code",
   "execution_count": null,
   "metadata": {},
   "outputs": [],
   "source": [
    "types_products_count = 4    # количество типов продуктов"
   ]
  },
  {
   "cell_type": "code",
   "execution_count": null,
   "metadata": {},
   "outputs": [],
   "source": [
    "max_weight = 450            # минимальное значение веса товаров\n",
    "min_weight = 2              # максимальное значение веса товаров\n",
    "product_data = [randint(min_weight, max_weight) for _ in range(types_products_count)]\n",
    "product_data                # список весов соваров"
   ]
  },
  {
   "cell_type": "code",
   "execution_count": null,
   "metadata": {},
   "outputs": [],
   "source": [
    "warehouses_count = 2        # количество складов\n",
    "\n",
    "                            # местораположение складов\n",
    "warehouses_coords = [(randint(0, rows), randint(0, columns)) for _ in range(warehouses_count)]\n",
    "\n",
    "min_products_on_warehouse_count = 0\n",
    "max_product_on_warehouse_count = 10\n",
    "warehouses_products_count = [[randint(min_products_on_warehouse_count, max_product_on_warehouse_count)\n",
    "                             for _ in range(types_products_count)]\n",
    "                             for _ in range(warehouses_count)]"
   ]
  },
  {
   "cell_type": "code",
   "execution_count": null,
   "metadata": {},
   "outputs": [],
   "source": [
    "orders_count = 3             # количество заказов\n",
    "\n",
    "                             # месторасположение заказов\n",
    "orders_coords = [(randint(0, rows), randint(0, columns)) for _ in range(orders_count)]\n",
    "min_items_in_order = 1\n",
    "max_items_in_order = 4\n",
    "product_types_in_order = [sample(range(types_products_count), randint(min_items_in_order, max_items_in_order)) \n",
    "                          for _ in range(orders_count)]\n",
    "count_products_in_order = list(map(len, product_types_in_order))"
   ]
  },
  {
   "cell_type": "code",
   "execution_count": null,
   "metadata": {},
   "outputs": [],
   "source": [
    "all_coords = warehouses_coords + orders_coords\n",
    "all_coords"
   ]
  },
  {
   "cell_type": "code",
   "execution_count": null,
   "metadata": {},
   "outputs": [],
   "source": [
    "print(list(map(list, distance_matrix(all_coords, all_coords))))"
   ]
  }
 ],
 "metadata": {
  "kernelspec": {
   "display_name": "Python 3",
   "language": "python",
   "name": "python3"
  },
  "language_info": {
   "codemirror_mode": {
    "name": "ipython",
    "version": 3
   },
   "file_extension": ".py",
   "mimetype": "text/x-python",
   "name": "python",
   "nbconvert_exporter": "python",
   "pygments_lexer": "ipython3",
   "version": "3.8.2"
  }
 },
 "nbformat": 4,
 "nbformat_minor": 4
}
